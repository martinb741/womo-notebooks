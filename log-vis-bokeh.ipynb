{
 "cells": [
  {
   "cell_type": "markdown",
   "metadata": {},
   "source": [
    "# Visualize logs of the he555 controller"
   ]
  },
  {
   "cell_type": "code",
   "execution_count": null,
   "metadata": {},
   "outputs": [],
   "source": [
    "import pandas as pd\n",
    "from bokeh.io import output_notebook, show, output_file, reset_output\n",
    "from bokeh.plotting import figure\n",
    "from bokeh.layouts import row, column, gridplot\n",
    "from bokeh.palettes import Dark2"
   ]
  },
  {
   "cell_type": "code",
   "execution_count": null,
   "metadata": {},
   "outputs": [],
   "source": [
    "file = 'logs/auto-level.txt'\n",
    "#file = 'logs/auto-retract.txt'\n",
    "#file = 'logs/test.txt'"
   ]
  },
  {
   "cell_type": "code",
   "execution_count": null,
   "metadata": {},
   "outputs": [],
   "source": [
    "cols = [1,2,4,9,10,11,12,13,14,15,16]\n",
    "names = ['a','b','druck','mode','phase','pause',\n",
    "         'dir','vorne_links','vorne_rechts','hinten_links','hinten_rechts']"
   ]
  },
  {
   "cell_type": "code",
   "execution_count": null,
   "metadata": {},
   "outputs": [],
   "source": [
    "for encoding in ['utf-8', 'utf-16', 'ascii']:\n",
    "    print(f'trying {encoding}...')\n",
    "    try:\n",
    "        df = pd.read_csv(file, sep=' ', skiprows=3, usecols=cols, names=names, encoding=encoding)\n",
    "        print('ok')\n",
    "        break\n",
    "    except:\n",
    "        print('failed')\n",
    "\n",
    "for col in df.columns:\n",
    "    df[col] = df[col].str.extract(r'=(.*)').astype(float)\n",
    "\n",
    "df['zeit'] = df.index / 10\n",
    "\n",
    "df.head()"
   ]
  },
  {
   "cell_type": "raw",
   "metadata": {},
   "source": [
    "reset_output()\n",
    "#output_file('plot.html')\n",
    "output_notebook()\n",
    "\n",
    "width, height_sm, height_lg = 1200, 100, 400\n",
    "\n",
    "p1 = figure(plot_width=width, plot_height=height_sm, title=\"Modus\")\n",
    "p1.line(df['zeit'], df['mode'], line_width=2)\n",
    "\n",
    "p2 = figure(plot_width=width, plot_height=height_sm, title=\"Phase\", x_range=p1.x_range)\n",
    "p2.line(df['zeit'], df['phase'], line_width=2)\n",
    "\n",
    "p3 = figure(plot_width=width, plot_height=height_sm, title=\"VL\", x_range=p1.x_range)\n",
    "p3.line(df['zeit'], df['vorne_links'], line_width=2)\n",
    "\n",
    "p4 = figure(plot_width=width, plot_height=height_sm, title=\"VR\", x_range=p1.x_range)\n",
    "p4.line(df['zeit'], df['vorne_rechts'], line_width=2)\n",
    "\n",
    "p5 = figure(plot_width=width, plot_height=height_sm, title=\"HL\", x_range=p1.x_range)\n",
    "p5.line(df['zeit'], df['hinten_links'], line_width=2)\n",
    "\n",
    "p6 = figure(plot_width=width, plot_height=height_sm, title=\"HR\", x_range=p1.x_range)\n",
    "p6.line(df['zeit'], df['hinten_rechts'], line_width=2)\n",
    "\n",
    "p7 = figure(plot_width=width, plot_height=height_lg, title=\"Druck\", x_range=p1.x_range)\n",
    "p7.line(df['zeit'], df['druck'], line_width=2)\n",
    "\n",
    "p8 = figure(plot_width=width, plot_height=height_lg, title=\"Achse A\", x_range=p1.x_range)\n",
    "p8.line(df['zeit'], df['a'], line_width=2)\n",
    "\n",
    "p9 = figure(plot_width=width, plot_height=height_lg, title=\"Achse B\", x_range=p1.x_range)\n",
    "p9.line(df['zeit'], df['b'], line_width=2)\n",
    "\n",
    "show(gridplot([[p1],[p2],[p3],[p4],[p5],[p6],[p7],[p8],[p9]]))"
   ]
  },
  {
   "cell_type": "code",
   "execution_count": null,
   "metadata": {},
   "outputs": [],
   "source": [
    "Dark2[3]"
   ]
  },
  {
   "cell_type": "code",
   "execution_count": null,
   "metadata": {},
   "outputs": [],
   "source": [
    "reset_output()\n",
    "#output_file('plot.html')\n",
    "output_notebook()\n",
    "\n",
    "palette = Dark2[4]\n",
    "\n",
    "width, height_sm, height_lg = 1200, 200, 400\n",
    "\n",
    "p1 = figure(plot_width=width, plot_height=height_sm, title=\"Modus, Phase\")\n",
    "for (col, offset, color, label) in zip(['phase','mode'], [4,0], palette[:2], ['Phase','Modus']):\n",
    "    p1.line(df['zeit'], df[col] + offset, line_width=2, color=color, legend_label=label)\n",
    "\n",
    "p2 = figure(plot_width=width, plot_height=200, title=\"VL, VR, HL, HR\", x_range=p1.x_range)\n",
    "for (col, offset, color, label) in zip(['vorne_links','vorne_rechts','hinten_links','hinten_rechts'], [6,4,2,0], palette[:4], ['VL','VR','HL','HR']):\n",
    "    p2.line(df['zeit'], df[col] + offset, line_width=2, color=color, legend_label=label)\n",
    "\n",
    "p3 = figure(plot_width=width, plot_height=height_lg, title=\"Druck\", x_range=p1.x_range)\n",
    "p3.line(df['zeit'], df['druck'], line_width=2, color=palette[0])\n",
    "\n",
    "p4 = figure(plot_width=width, plot_height=height_lg, title=\"Achse A, Achse B\", x_range=p1.x_range)\n",
    "for (col, offset, color, label) in zip(['a','b'], [0,0], palette[:2], ['Vorne-Hinten','Links-Rechts']):\n",
    "    p4.line(df['zeit'], df[col] + offset, line_width=2, color=color, legend_label=label)\n",
    "\n",
    "show(gridplot([[p1],[p2],[p3],[p4]]))"
   ]
  },
  {
   "cell_type": "code",
   "execution_count": null,
   "metadata": {},
   "outputs": [],
   "source": []
  }
 ],
 "metadata": {
  "kernelspec": {
   "display_name": "womo-notebooks-env",
   "language": "python",
   "name": "womo-notebooks-env"
  },
  "language_info": {
   "codemirror_mode": {
    "name": "ipython",
    "version": 3
   },
   "file_extension": ".py",
   "mimetype": "text/x-python",
   "name": "python",
   "nbconvert_exporter": "python",
   "pygments_lexer": "ipython3",
   "version": "3.8.5"
  }
 },
 "nbformat": 4,
 "nbformat_minor": 5
}
