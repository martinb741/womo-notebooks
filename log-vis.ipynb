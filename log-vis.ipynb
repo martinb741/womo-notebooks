{
 "cells": [
  {
   "cell_type": "markdown",
   "id": "needed-glossary",
   "metadata": {},
   "source": [
    "# Visualize logs of the he555 controller"
   ]
  },
  {
   "cell_type": "code",
   "execution_count": null,
   "id": "prerequisite-grounds",
   "metadata": {},
   "outputs": [],
   "source": [
    "import pandas as pd\n",
    "import seaborn as sns"
   ]
  },
  {
   "cell_type": "code",
   "execution_count": null,
   "id": "changed-invention",
   "metadata": {},
   "outputs": [],
   "source": [
    "file = 'logs/auto-level.txt'\n",
    "#file = 'logs/auto-retract.txt'\n",
    "#file = 'logs/test.txt'"
   ]
  },
  {
   "cell_type": "code",
   "execution_count": null,
   "id": "timely-homework",
   "metadata": {},
   "outputs": [],
   "source": [
    "cols = [1,2,4,9,10,11,12,13,14,15,16]\n",
    "names = ['a','b','pressure','mode','phase','pause','dir','fl','fr','bl','br']"
   ]
  },
  {
   "cell_type": "code",
   "execution_count": null,
   "id": "greatest-disclaimer",
   "metadata": {},
   "outputs": [],
   "source": [
    "for encoding in ['utf-8', 'utf-16', 'ascii']:\n",
    "    print(f'trying {encoding}...')\n",
    "    try:\n",
    "        df = pd.read_csv(file, sep=' ', skiprows=3, usecols=cols, names=names, encoding=encoding)\n",
    "        print('ok')\n",
    "        break\n",
    "    except:\n",
    "        print('failed')"
   ]
  },
  {
   "cell_type": "code",
   "execution_count": null,
   "id": "center-latvia",
   "metadata": {},
   "outputs": [],
   "source": [
    "for col in df.columns:\n",
    "    df[col] = df[col].str.extract(r'=(.*)')\n",
    "\n",
    "df"
   ]
  },
  {
   "cell_type": "code",
   "execution_count": null,
   "id": "impossible-comment",
   "metadata": {},
   "outputs": [],
   "source": []
  }
 ],
 "metadata": {
  "kernelspec": {
   "display_name": "Python 3",
   "language": "python",
   "name": "python3"
  },
  "language_info": {
   "codemirror_mode": {
    "name": "ipython",
    "version": 3
   },
   "file_extension": ".py",
   "mimetype": "text/x-python",
   "name": "python",
   "nbconvert_exporter": "python",
   "pygments_lexer": "ipython3",
   "version": "3.7.10"
  }
 },
 "nbformat": 4,
 "nbformat_minor": 5
}
