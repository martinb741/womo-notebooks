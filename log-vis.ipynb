{
 "cells": [
  {
   "cell_type": "markdown",
   "id": "needed-glossary",
   "metadata": {},
   "source": [
    "# Visualize logs of the he555 controller"
   ]
  },
  {
   "cell_type": "code",
   "execution_count": null,
   "id": "prerequisite-grounds",
   "metadata": {},
   "outputs": [],
   "source": [
    "import pandas as pd\n",
    "import seaborn as sns"
   ]
  },
  {
   "cell_type": "code",
   "execution_count": null,
   "id": "respiratory-chicken",
   "metadata": {},
   "outputs": [],
   "source": [
    "pd.read_csv('logs/auto-level.txt', sep=' ', skiprows=2, encoding='utf-16',)"
   ]
  }
 ],
 "metadata": {
  "kernelspec": {
   "display_name": "Python 3",
   "language": "python",
   "name": "python3"
  },
  "language_info": {
   "codemirror_mode": {
    "name": "ipython",
    "version": 3
   },
   "file_extension": ".py",
   "mimetype": "text/x-python",
   "name": "python",
   "nbconvert_exporter": "python",
   "pygments_lexer": "ipython3",
   "version": "3.7.10"
  }
 },
 "nbformat": 4,
 "nbformat_minor": 5
}
