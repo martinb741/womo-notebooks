{
 "cells": [
  {
   "cell_type": "markdown",
   "metadata": {},
   "source": [
    "# Visualize logs of the he555 controller"
   ]
  },
  {
   "cell_type": "code",
   "execution_count": null,
   "metadata": {},
   "outputs": [],
   "source": [
    "import pandas as pd\n",
    "import seaborn as sns\n",
    "import matplotlib.pyplot as plt"
   ]
  },
  {
   "cell_type": "code",
   "execution_count": null,
   "metadata": {},
   "outputs": [],
   "source": [
    "file = 'logs/auto-level.txt'\n",
    "#file = 'logs/auto-retract.txt'\n",
    "#file = 'logs/test.txt'"
   ]
  },
  {
   "cell_type": "code",
   "execution_count": null,
   "metadata": {},
   "outputs": [],
   "source": [
    "cols = [1,2,4,9,10,11,12,13,14,15,16]\n",
    "names = ['a','b','druck','mode','phase','pause',\n",
    "         'dir','vorne_links','vorne_rechts','hinten_links','hinten_rechts']"
   ]
  },
  {
   "cell_type": "code",
   "execution_count": null,
   "metadata": {},
   "outputs": [],
   "source": [
    "for encoding in ['utf-8', 'utf-16', 'ascii']:\n",
    "    print(f'trying {encoding}...')\n",
    "    try:\n",
    "        df = pd.read_csv(file, sep=' ', skiprows=3, usecols=cols, names=names, encoding=encoding)\n",
    "        print('ok')\n",
    "        break\n",
    "    except:\n",
    "        print('failed')\n",
    "\n",
    "for col in df.columns:\n",
    "    df[col] = df[col].str.extract(r'=(.*)').astype(float)\n",
    "\n",
    "df['zeit'] = df.index / 10\n",
    "\n",
    "df.head()"
   ]
  },
  {
   "cell_type": "code",
   "execution_count": null,
   "metadata": {},
   "outputs": [],
   "source": [
    "fig, axes = plt.subplots(8, 1, figsize=(15, 14))\n",
    "\n",
    "sns.lineplot(ax=axes[0], data=df, y='mode', x='zeit')\n",
    "sns.lineplot(ax=axes[1], data=df, y='phase', x='zeit')\n",
    "sns.lineplot(ax=axes[2], data=df, y='vorne_links', x='zeit')\n",
    "sns.lineplot(ax=axes[3], data=df, y='vorne_rechts', x='zeit')\n",
    "sns.lineplot(ax=axes[4], data=df, y='hinten_links', x='zeit')\n",
    "sns.lineplot(ax=axes[5], data=df, y='hinten_rechts', x='zeit')\n",
    "sns.lineplot(ax=axes[6], data=df, y='druck', x='zeit')\n",
    "sns.lineplot(ax=axes[7], data=df, y='a', x='zeit')\n",
    "sns.lineplot(ax=axes[7], data=df, y='b', x='zeit')"
   ]
  },
  {
   "cell_type": "code",
   "execution_count": null,
   "metadata": {},
   "outputs": [],
   "source": [
    "sns.set_theme()\n",
    "plt.subplots(figsize = (20,15))\n",
    "plot = sns.lineplot(data=df[df.druck > 2950], y='druck', x='zeit')\n",
    "plot.set_ylim(bottom=2950, top=3150);"
   ]
  },
  {
   "cell_type": "code",
   "execution_count": null,
   "metadata": {},
   "outputs": [],
   "source": []
  }
 ],
 "metadata": {
  "kernelspec": {
   "display_name": "womo-notebooks-env",
   "language": "python",
   "name": "womo-notebooks-env"
  },
  "language_info": {
   "codemirror_mode": {
    "name": "ipython",
    "version": 3
   },
   "file_extension": ".py",
   "mimetype": "text/x-python",
   "name": "python",
   "nbconvert_exporter": "python",
   "pygments_lexer": "ipython3",
   "version": "3.8.5"
  }
 },
 "nbformat": 4,
 "nbformat_minor": 5
}
