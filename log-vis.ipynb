{
 "cells": [
  {
   "cell_type": "markdown",
   "id": "needed-glossary",
   "metadata": {},
   "source": [
    "# Visualize logs of the he555 controller"
   ]
  },
  {
   "cell_type": "code",
   "execution_count": null,
   "id": "prerequisite-grounds",
   "metadata": {},
   "outputs": [],
   "source": [
    "import pandas as pd\n",
    "import seaborn as sns\n",
    "import matplotlib.pyplot as plt"
   ]
  },
  {
   "cell_type": "code",
   "execution_count": null,
   "id": "daily-defense",
   "metadata": {},
   "outputs": [],
   "source": [
    "file = 'logs/auto-level.txt'\n",
    "#file = 'logs/auto-retract.txt'\n",
    "#file = 'logs/test.txt'"
   ]
  },
  {
   "cell_type": "code",
   "execution_count": null,
   "id": "cathedral-scanner",
   "metadata": {},
   "outputs": [],
   "source": [
    "cols = [1,2,4,9,10,11,12,13,14,15,16]\n",
    "names = ['a','b','druck','mode','phase','pause',\n",
    "         'dir','vorne_links','vorne_rechts','hinten_links','hinten_rechts']"
   ]
  },
  {
   "cell_type": "code",
   "execution_count": null,
   "id": "iraqi-clarity",
   "metadata": {},
   "outputs": [],
   "source": [
    "for encoding in ['utf-8', 'utf-16', 'ascii']:\n",
    "    print(f'trying {encoding}...')\n",
    "    try:\n",
    "        df = pd.read_csv(file, sep=' ', skiprows=3, usecols=cols, names=names, encoding=encoding)\n",
    "        print('ok')\n",
    "        break\n",
    "    except:\n",
    "        print('failed')\n",
    "\n",
    "for col in df.columns:\n",
    "    df[col] = df[col].str.extract(r'=(.*)').astype(float)\n",
    "\n",
    "df['time'] = df.index / 10\n",
    "\n",
    "df.head()"
   ]
  },
  {
   "cell_type": "code",
   "execution_count": null,
   "id": "bridal-script",
   "metadata": {
    "scrolled": false
   },
   "outputs": [],
   "source": [
    "fig, axes = plt.subplots(8, 1, figsize=(15, 14))\n",
    "\n",
    "sns.lineplot(ax=axes[0], data=df, y='mode', x='time')\n",
    "sns.lineplot(ax=axes[1], data=df, y='phase', x='time')\n",
    "sns.lineplot(ax=axes[2], data=df, y='vorne_links', x='time')\n",
    "sns.lineplot(ax=axes[3], data=df, y='vorne_rechts', x='time')\n",
    "sns.lineplot(ax=axes[4], data=df, y='hinten_links', x='time')\n",
    "sns.lineplot(ax=axes[5], data=df, y='hinten_rechts', x='time')\n",
    "sns.lineplot(ax=axes[6], data=df, y='druck', x='time')\n",
    "sns.lineplot(ax=axes[7], data=df, y='a', x='time')\n",
    "sns.lineplot(ax=axes[7], data=df, y='b', x='time')"
   ]
  }
 ],
 "metadata": {
  "kernelspec": {
   "display_name": "Python 3",
   "language": "python",
   "name": "python3"
  },
  "language_info": {
   "codemirror_mode": {
    "name": "ipython",
    "version": 3
   },
   "file_extension": ".py",
   "mimetype": "text/x-python",
   "name": "python",
   "nbconvert_exporter": "python",
   "pygments_lexer": "ipython3",
   "version": "3.7.10"
  }
 },
 "nbformat": 4,
 "nbformat_minor": 5
}
